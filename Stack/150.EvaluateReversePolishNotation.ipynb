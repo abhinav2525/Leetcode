{
 "cells": [
  {
   "cell_type": "code",
   "execution_count": 2,
   "metadata": {},
   "outputs": [],
   "source": [
    "from typing import List\n",
    "\n",
    "\n",
    "def evalRPN(tokens: List[str]) -> int:\n",
    "    stack = []\n",
    "    for i in tokens:\n",
    "        if i == \"+\":\n",
    "            stack.append(stack.pop()+ stack.pop())\n",
    "        elif i == \"-\":\n",
    "            a,b = stack.pop(), stack.pop()\n",
    "            stack.pop(b-a)\n",
    "        elif i == \"*\":\n",
    "            stack.append(stack.pop() * stack.pop())\n",
    "        elif i == \"/\":\n",
    "            a,b = stack.pop(), stack.pop()\n",
    "            stack.append(int(float(b/a)))\n",
    "        else:\n",
    "            stack.append(int(i))\n",
    "\n",
    "    return stack[0]\n",
    "            "
   ]
  },
  {
   "cell_type": "code",
   "execution_count": 3,
   "metadata": {},
   "outputs": [
    {
     "data": {
      "text/plain": [
       "9"
      ]
     },
     "execution_count": 3,
     "metadata": {},
     "output_type": "execute_result"
    }
   ],
   "source": [
    "evalRPN([\"2\",\"1\",\"+\",\"3\",\"*\"])"
   ]
  }
 ],
 "metadata": {
  "kernelspec": {
   "display_name": ".venv",
   "language": "python",
   "name": "python3"
  },
  "language_info": {
   "codemirror_mode": {
    "name": "ipython",
    "version": 3
   },
   "file_extension": ".py",
   "mimetype": "text/x-python",
   "name": "python",
   "nbconvert_exporter": "python",
   "pygments_lexer": "ipython3",
   "version": "3.9.6"
  }
 },
 "nbformat": 4,
 "nbformat_minor": 2
}
