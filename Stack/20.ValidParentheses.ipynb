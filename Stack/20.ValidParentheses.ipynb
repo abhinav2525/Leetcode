{
 "cells": [
  {
   "cell_type": "code",
   "execution_count": null,
   "metadata": {},
   "outputs": [],
   "source": [
    "def isValid(s: str) -> bool:\n",
    "    stack = []\n",
    "    Map = {\")\" :\"(\", \"}\" : \"{\" , \"]\":\"[\"}\n",
    "\n",
    "    for c in str:\n",
    "        if c not in Map:\n",
    "            stack.append(c)\n",
    "            continue\n",
    "        if not stack or stack[-1] != Map[c]:\n",
    "            return False\n",
    "        stack.pop()\n",
    "\n",
    "    return not stack\n",
    "\n"
   ]
  }
 ],
 "metadata": {
  "language_info": {
   "name": "python"
  }
 },
 "nbformat": 4,
 "nbformat_minor": 2
}
