{
 "cells": [
  {
   "cell_type": "code",
   "execution_count": 15,
   "metadata": {},
   "outputs": [],
   "source": [
    "from typing import List\n",
    "\n",
    "\n",
    "def threeSum( nums: List[int]) -> List[List[int]]:\n",
    "    res = []\n",
    "    nums.sort()\n",
    "\n",
    "    for i,n in enumerate(nums):\n",
    "\n",
    "        if n > 0:\n",
    "            break\n",
    "\n",
    "        if i > 0 and n == nums[i-1]:\n",
    "            continue\n",
    "\n",
    "        l, r = i + 1, len(nums) - 1\n",
    "\n",
    "        while l < r:\n",
    "            currSum = n + nums[l] + nums[r]\n",
    "\n",
    "            if currSum > 0:\n",
    "                r -= 1\n",
    "            elif currSum < 0:\n",
    "                l += 1\n",
    "            else:\n",
    "                res.append([n, nums[l], nums[r]])\n",
    "                l += 1\n",
    "                r -= 1\n",
    "\n",
    "                while nums[l] == nums[l-1] and l < r:\n",
    "                    l += 1\n",
    "            \n",
    "    return res\n"
   ]
  },
  {
   "cell_type": "code",
   "execution_count": 16,
   "metadata": {},
   "outputs": [
    {
     "data": {
      "text/plain": [
       "[[-1, -1, 2], [-1, 0, 1]]"
      ]
     },
     "execution_count": 16,
     "metadata": {},
     "output_type": "execute_result"
    }
   ],
   "source": [
    "threeSum([-1,0,1,2,-1,-4])"
   ]
  }
 ],
 "metadata": {
  "kernelspec": {
   "display_name": ".venv",
   "language": "python",
   "name": "python3"
  },
  "language_info": {
   "codemirror_mode": {
    "name": "ipython",
    "version": 3
   },
   "file_extension": ".py",
   "mimetype": "text/x-python",
   "name": "python",
   "nbconvert_exporter": "python",
   "pygments_lexer": "ipython3",
   "version": "3.9.6"
  }
 },
 "nbformat": 4,
 "nbformat_minor": 2
}
