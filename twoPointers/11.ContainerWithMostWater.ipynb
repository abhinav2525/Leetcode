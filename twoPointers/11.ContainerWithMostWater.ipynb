{
 "cells": [
  {
   "cell_type": "code",
   "execution_count": null,
   "metadata": {},
   "outputs": [],
   "source": [
    "from typing import List\n",
    "\n",
    "\n",
    "def maxArea(height: List[int]) -> int:\n",
    "    l, r = 0, len(height) - 1\n",
    "    res = 0\n",
    "    while l < r:\n",
    "        area = (r-l) * min(height[l], height[r])\n",
    "        res = max (res, area)\n",
    "\n",
    "        if height[l] < height[r]:\n",
    "            l += 1\n",
    "        elif height[l] > height[r]:\n",
    "            r -= 1\n",
    "        else:\n",
    "            r -= 1\n",
    "        \n",
    "    return res"
   ]
  },
  {
   "cell_type": "code",
   "execution_count": null,
   "metadata": {},
   "outputs": [],
   "source": [
    "maxArea([1,8,6,2,5,4,8,3,7])"
   ]
  }
 ],
 "metadata": {
  "language_info": {
   "name": "python"
  }
 },
 "nbformat": 4,
 "nbformat_minor": 2
}
