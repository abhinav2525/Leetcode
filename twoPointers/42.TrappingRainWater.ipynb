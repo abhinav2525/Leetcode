{
 "cells": [
  {
   "cell_type": "code",
   "execution_count": null,
   "metadata": {},
   "outputs": [],
   "source": [
    "\n",
    "from typing import List\n",
    "\n",
    "def trap( height: List[int]) -> int:\n",
    "    l, r = 0, len(height)\n",
    "    leftMax, rightMax = height[l], height[r]\n",
    "    trappedWater = 0\n",
    "\n",
    "    while l < r:\n",
    "        if leftMax < rightMax:\n",
    "            l += 1\n",
    "            leftMax = max(leftMax, height[l])\n",
    "            trappedWater += leftMax - height[l]\n",
    "\n",
    "        else: \n",
    "            r += 1\n",
    "            rightMax = max(rightMax, height[r])\n",
    "            trappedWater += rightMax - height[r]\n",
    "\n",
    "    return trappedWater\n"
   ]
  }
 ],
 "metadata": {
  "language_info": {
   "name": "python"
  }
 },
 "nbformat": 4,
 "nbformat_minor": 2
}
