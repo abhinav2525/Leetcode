{
 "cells": [
  {
   "cell_type": "code",
   "execution_count": 5,
   "metadata": {},
   "outputs": [],
   "source": [
    "\n",
    "from typing import List\n",
    "\n",
    "def trap( height: List[int]) -> int:\n",
    "    l, r = 0, len(height) - 1\n",
    "    leftMax, rightMax = height[l], height[r]\n",
    "    trappedWater = 0\n",
    "\n",
    "    while l < r:\n",
    "        if leftMax < rightMax:\n",
    "            l += 1\n",
    "            leftMax = max(leftMax, height[l])\n",
    "            trappedWater += leftMax - height[l]\n",
    "\n",
    "        else: \n",
    "            r -= 1\n",
    "            rightMax = max(rightMax, height[r])\n",
    "            trappedWater += rightMax - height[r]\n",
    "\n",
    "    return trappedWater\n"
   ]
  },
  {
   "cell_type": "code",
   "execution_count": 6,
   "metadata": {},
   "outputs": [
    {
     "data": {
      "text/plain": [
       "6"
      ]
     },
     "execution_count": 6,
     "metadata": {},
     "output_type": "execute_result"
    }
   ],
   "source": [
    "trap([0,1,0,2,1,0,1,3,2,1,2,1])"
   ]
  }
 ],
 "metadata": {
  "kernelspec": {
   "display_name": ".venv",
   "language": "python",
   "name": "python3"
  },
  "language_info": {
   "codemirror_mode": {
    "name": "ipython",
    "version": 3
   },
   "file_extension": ".py",
   "mimetype": "text/x-python",
   "name": "python",
   "nbconvert_exporter": "python",
   "pygments_lexer": "ipython3",
   "version": "3.9.6"
  }
 },
 "nbformat": 4,
 "nbformat_minor": 2
}
