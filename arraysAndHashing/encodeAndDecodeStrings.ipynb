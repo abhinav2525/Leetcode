{
 "cells": [
  {
   "cell_type": "code",
   "execution_count": 3,
   "id": "f9b1654d",
   "metadata": {},
   "outputs": [],
   "source": [
    "from typing import List\n"
   ]
  },
  {
   "cell_type": "code",
   "execution_count": 4,
   "id": "777d729d",
   "metadata": {},
   "outputs": [],
   "source": [
    "class Solution:\n",
    "\n",
    "    def encode(self, strs: List[str]) -> str:\n",
    "        res= \"\"\n",
    "        for s in strs:\n",
    "            res += str(len(s)) + \"#\" + s\n",
    "        return res\n",
    "\n",
    "    def decode(self, s: str) -> List[str]:\n",
    "        res = []\n",
    "        i = 0\n",
    "\n",
    "        while i < len(s):\n",
    "            j = i\n",
    "            while s[j] != \"#\":\n",
    "                j+=1\n",
    "            length = int(s[i:j])\n",
    "            i = j + 1\n",
    "            j = i + length\n",
    "            res.append(s[i:j])\n",
    "            i = j\n",
    "\n",
    "        return res"
   ]
  },
  {
   "cell_type": "code",
   "execution_count": 6,
   "id": "636fd727",
   "metadata": {},
   "outputs": [
    {
     "name": "stdout",
     "output_type": "stream",
     "text": [
      "Original strings: ['4bh1nav', 'hello', 'world', 'test#string']\n",
      "Encoded: 7#4bh1nav5#hello5#world11#test#string\n"
     ]
    }
   ],
   "source": [
    "# Create an instance of the Solution class\n",
    "solution = Solution()\n",
    "\n",
    "# Test with a list of strings\n",
    "test_strings = [\"4bh1nav\", \"hello\", \"world\", \"test#string\"]\n",
    "encoded = solution.encode(test_strings)\n",
    "print(\"Original strings:\", test_strings)\n",
    "print(\"Encoded:\", encoded)"
   ]
  },
  {
   "cell_type": "code",
   "execution_count": 7,
   "id": "cb04e79b",
   "metadata": {},
   "outputs": [
    {
     "name": "stdout",
     "output_type": "stream",
     "text": [
      "Decoded: ['4bh1nav', 'hello', 'world', 'test#string']\n",
      "Are they equal? True\n"
     ]
    }
   ],
   "source": [
    "# Decode the encoded string back to original list\n",
    "decoded = solution.decode(encoded)\n",
    "print(\"Decoded:\", decoded)\n",
    "print(\"Are they equal?\", test_strings == decoded)"
   ]
  },
  {
   "cell_type": "code",
   "execution_count": 8,
   "id": "78d09955",
   "metadata": {},
   "outputs": [
    {
     "name": "stdout",
     "output_type": "stream",
     "text": [
      "\n",
      "Edge cases test:\n",
      "Original: ['', 'a', 'hello#world', '123', 'special!@#$%']\n",
      "Encoded: 0#1#a11#hello#world3#12312#special!@#$%\n",
      "Decoded: ['', 'a', 'hello#world', '123', 'special!@#$%']\n",
      "Are they equal? True\n"
     ]
    }
   ],
   "source": [
    "# Test with edge cases\n",
    "edge_cases = [\"\", \"a\", \"hello#world\", \"123\", \"special!@#$%\"]\n",
    "encoded_edge = solution.encode(edge_cases)\n",
    "decoded_edge = solution.decode(encoded_edge)\n",
    "print(\"\\nEdge cases test:\")\n",
    "print(\"Original:\", edge_cases)\n",
    "print(\"Encoded:\", encoded_edge)\n",
    "print(\"Decoded:\", decoded_edge)\n",
    "print(\"Are they equal?\", edge_cases == decoded_edge)"
   ]
  }
 ],
 "metadata": {
  "kernelspec": {
   "display_name": ".venv",
   "language": "python",
   "name": "python3"
  },
  "language_info": {
   "codemirror_mode": {
    "name": "ipython",
    "version": 3
   },
   "file_extension": ".py",
   "mimetype": "text/x-python",
   "name": "python",
   "nbconvert_exporter": "python",
   "pygments_lexer": "ipython3",
   "version": "3.9.6"
  }
 },
 "nbformat": 4,
 "nbformat_minor": 5
}
