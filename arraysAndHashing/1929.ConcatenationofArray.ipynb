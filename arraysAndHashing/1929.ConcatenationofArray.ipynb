{
 "cells": [
  {
   "cell_type": "code",
   "execution_count": null,
   "metadata": {},
   "outputs": [],
   "source": [
    "from typing import List\n",
    "\n",
    "\n",
    "def getConcatenation(nums: List[int]) -> List[int]:\n",
    "    arr = []\n",
    "\n",
    "    for i in range(2):\n",
    "        for n in nums:\n",
    "            arr.append(n)\n",
    "\n",
    "    return arr"
   ]
  }
 ],
 "metadata": {
  "language_info": {
   "name": "python"
  }
 },
 "nbformat": 4,
 "nbformat_minor": 2
}
