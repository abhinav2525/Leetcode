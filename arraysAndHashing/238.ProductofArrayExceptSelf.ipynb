{
 "cells": [
  {
   "cell_type": "code",
   "execution_count": 2,
   "metadata": {},
   "outputs": [],
   "source": [
    "from typing import List\n",
    "\n",
    "\n",
    "def productExceptSelf(nums: List[int]) -> List[int]: # O(n) time, O(1) space\n",
    "    res = [1] * len(nums) # res[i] = product of all elements except nums[i]\n",
    "\n",
    "    for i in range(1, len(nums)):\n",
    "        res[i] = res[i-1] * nums[i-1] # res[i] = product of all elements to the left of i\n",
    "\n",
    "    postfix = 1\n",
    "\n",
    "    for i in range(len(nums)-1,-1,-1): # res[i] = product of all elements to the right of i\n",
    "        res[i] *= postfix\n",
    "        postfix *= nums[i]\n",
    "\n",
    "    return res "
   ]
  },
  {
   "cell_type": "code",
   "execution_count": 3,
   "metadata": {},
   "outputs": [],
   "source": [
    "def productExceptSelf1(nums: List[int]) -> List[int]:\n",
    "        n = len(nums)\n",
    "        prefix = [1] * n\n",
    "        postfix = [1] * n\n",
    "        output = [1] * n\n",
    "\n",
    "        for i in range(1,n):\n",
    "            prefix[i] = prefix[i-1] * nums[i - 1]\n",
    "\n",
    "        for i in range(n-2, -1, -1):\n",
    "            postfix[i] = postfix[i+1] * nums[i+1]\n",
    "\n",
    "        for i in range(n):\n",
    "            output[i] = prefix[i] * postfix[i]\n",
    "\n",
    "        return output # O(n) time, O(1) space"
   ]
  },
  {
   "cell_type": "code",
   "execution_count": 4,
   "metadata": {},
   "outputs": [
    {
     "data": {
      "text/plain": [
       "[24, 12, 8, 6]"
      ]
     },
     "execution_count": 4,
     "metadata": {},
     "output_type": "execute_result"
    }
   ],
   "source": [
    "productExceptSelf([1,2,3,4]) # [24,12,8,6]"
   ]
  },
  {
   "cell_type": "code",
   "execution_count": 5,
   "metadata": {},
   "outputs": [
    {
     "data": {
      "text/plain": [
       "[24, 12, 8, 6]"
      ]
     },
     "execution_count": 5,
     "metadata": {},
     "output_type": "execute_result"
    }
   ],
   "source": [
    "productExceptSelf1([1,2,3,4])"
   ]
  }
 ],
 "metadata": {
  "kernelspec": {
   "display_name": ".venv",
   "language": "python",
   "name": "python3"
  },
  "language_info": {
   "codemirror_mode": {
    "name": "ipython",
    "version": 3
   },
   "file_extension": ".py",
   "mimetype": "text/x-python",
   "name": "python",
   "nbconvert_exporter": "python",
   "pygments_lexer": "ipython3",
   "version": "3.9.6"
  }
 },
 "nbformat": 4,
 "nbformat_minor": 2
}
