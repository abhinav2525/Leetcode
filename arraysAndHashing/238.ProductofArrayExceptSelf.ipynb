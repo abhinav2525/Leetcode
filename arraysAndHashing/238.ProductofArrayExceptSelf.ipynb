{
 "cells": [
  {
   "cell_type": "code",
   "execution_count": null,
   "metadata": {},
   "outputs": [],
   "source": [
    "from typing import List\n",
    "\n",
    "\n",
    "def productExceptSelf(nums: List[int]) -> List[int]: # O(n) time, O(1) space\n",
    "    res = [1] * len(nums) # res[i] = product of all elements except nums[i]\n",
    "\n",
    "    for i in range(1, len(nums)):\n",
    "        res[i] = res[i-1] * nums[i-1] # res[i] = product of all elements to the left of i\n",
    "\n",
    "    postfix = 1\n",
    "\n",
    "    for i in range(len(nums)-1,-1,-1): # res[i] = product of all elements to the right of i\n",
    "        res[i] *= postfix\n",
    "        postfix *= nums[i]\n",
    "\n",
    "    return res "
   ]
  },
  {
   "cell_type": "code",
   "execution_count": null,
   "metadata": {},
   "outputs": [],
   "source": [
    "productExceptSelf([1,2,3,4]) # [24,12,8,6]"
   ]
  }
 ],
 "metadata": {
  "language_info": {
   "name": "python"
  }
 },
 "nbformat": 4,
 "nbformat_minor": 2
}
