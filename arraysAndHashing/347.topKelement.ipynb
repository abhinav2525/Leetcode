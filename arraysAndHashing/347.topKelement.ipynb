{
 "cells": [
  {
   "cell_type": "code",
   "execution_count": 17,
   "metadata": {},
   "outputs": [],
   "source": [
    "from typing import List\n",
    "\n",
    "\n",
    "def topKFrequent(nums: List[int], k: int) -> List[int]:\n",
    "    count = {}\n",
    "    freq = [[] for i in range(len(nums) + 1)]\n",
    "    # print(freq)\n",
    "\n",
    "    for num in nums:\n",
    "        count[num] = count.get(num, 0) + 1\n",
    "    # print(count)\n",
    "    \n",
    "    for nums, f in count.items():\n",
    "        freq[f].append(nums)\n",
    "    # print(freq)\n",
    "\n",
    "    res = []\n",
    "\n",
    "    for i in range(len(freq) - 1, -1, -1):\n",
    "        for n in freq[i]:\n",
    "            res.append(n)\n",
    "            if len(res) == k:\n",
    "                return res\n",
    "\n"
   ]
  },
  {
   "cell_type": "code",
   "execution_count": 16,
   "metadata": {},
   "outputs": [
    {
     "name": "stdout",
     "output_type": "stream",
     "text": [
      "[[], [], [], [], [], [], [], []]\n",
      "{1: 3, 2: 2, 3: 2}\n",
      "[[], [], [2, 3], [1], [], [], [], []]\n"
     ]
    },
    {
     "data": {
      "text/plain": [
       "[1, 2]"
      ]
     },
     "execution_count": 16,
     "metadata": {},
     "output_type": "execute_result"
    }
   ],
   "source": [
    "topKFrequent([1, 1, 1, 2, 2, 3, 3], 2)"
   ]
  }
 ],
 "metadata": {
  "kernelspec": {
   "display_name": "Python 3",
   "language": "python",
   "name": "python3"
  },
  "language_info": {
   "codemirror_mode": {
    "name": "ipython",
    "version": 3
   },
   "file_extension": ".py",
   "mimetype": "text/x-python",
   "name": "python",
   "nbconvert_exporter": "python",
   "pygments_lexer": "ipython3",
   "version": "3.9.6"
  }
 },
 "nbformat": 4,
 "nbformat_minor": 2
}
