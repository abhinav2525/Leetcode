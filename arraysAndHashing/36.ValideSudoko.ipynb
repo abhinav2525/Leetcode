{
 "cells": [
  {
   "cell_type": "code",
   "execution_count": 2,
   "id": "65cb7cc0",
   "metadata": {},
   "outputs": [],
   "source": [
    "from typing import List\n",
    "from collections import defaultdict\n",
    "\n",
    "class Solution:   \n",
    "    def isValidSudoku(self, board: List[List[str]]) -> bool:\n",
    "        cols = defaultdict(set)\n",
    "        rows = defaultdict(set)\n",
    "        squares = defaultdict(set)\n",
    "\n",
    "        for r in range(9):\n",
    "            for c in range(9):\n",
    "                if board[r][c] == \".\":\n",
    "                    continue\n",
    "                if (board[r][c] in rows[r]\n",
    "                    or board[r][c] in cols[c]\n",
    "                    or board[r][c] in squares[(r//3, c//3)]):\n",
    "                    return False\n",
    "                \n",
    "                cols[c].add(board[r][c])\n",
    "                rows[r].add(board[r][c])\n",
    "                squares[(r//3, c//3)].add(board[r][c])\n",
    "\n",
    "        return True"
   ]
  }
 ],
 "metadata": {
  "kernelspec": {
   "display_name": ".venv",
   "language": "python",
   "name": "python3"
  },
  "language_info": {
   "codemirror_mode": {
    "name": "ipython",
    "version": 3
   },
   "file_extension": ".py",
   "mimetype": "text/x-python",
   "name": "python",
   "nbconvert_exporter": "python",
   "pygments_lexer": "ipython3",
   "version": "3.9.6"
  }
 },
 "nbformat": 4,
 "nbformat_minor": 5
}
